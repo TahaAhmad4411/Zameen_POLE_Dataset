{
  "nbformat": 4,
  "nbformat_minor": 0,
  "metadata": {
    "colab": {
      "name": "ZameenData.ipynb",
      "provenance": []
    },
    "kernelspec": {
      "name": "python3",
      "display_name": "Python 3"
    },
    "language_info": {
      "name": "python"
    }
  },
  "cells": [
    {
      "cell_type": "code",
      "metadata": {
        "id": "rvrPUiFwOXis"
      },
      "source": [
        "import urllib.request\n",
        "from bs4 import BeautifulSoup\n",
        "URL = 'https://www.zameen.com/Property/islamabad_f_11_f_11_500_square_yard_8_bedrooms_double_unit_with_extra_land_beautiful_green_lawn_house_for_rent-4265420-163-4.html'\n",
        "page=urllib.request.Request(URL,headers={'User-Agent': 'Chrome/92.0.4515.107'}) \n",
        "infile=urllib.request.urlopen(page).read()\n",
        "data = infile.decode('ISO-8859-1')\n",
        "\n",
        "soup = BeautifulSoup(data, 'html.parser')\n",
        "soup=soup.prettify()\n",
        "text_to_search=str(soup)\n",
        "text_to_search\n"
      ],
      "execution_count": null,
      "outputs": []
    },
    {
      "cell_type": "code",
      "metadata": {
        "id": "FcJmcdOz9iuy"
      },
      "source": [
        "import re\n",
        "import pandas as pd"
      ],
      "execution_count": null,
      "outputs": []
    },
    {
      "cell_type": "code",
      "metadata": {
        "id": "b_6OJCSZ9lcZ"
      },
      "source": [
        "str_soup = re.compile(r'92\\d{10}')\n",
        "\n",
        "matches = str_soup.finditer(text_to_search)\n",
        "\n",
        "Dataframe={'Phone Number':matches}\n",
        "data=pd.DataFrame(Dataframe)\n",
        "data.to_csv('Zameen.com_Data.csv')"
      ],
      "execution_count": null,
      "outputs": []
    },
    {
      "cell_type": "code",
      "metadata": {
        "id": "nRtDHKj09wLd"
      },
      "source": [
        "# !apt-get update # to update ubuntu to correctly run apt install\n",
        "# !apt install chromium-chromedriver\n",
        "# !cp /usr/lib/chromium-browser/chromedriver /usr/bin\n",
        "# import sys\n",
        "# sys.path.insert(0,'/usr/lib/chromium-browser/chromedriver')\n",
        "from selenium import webdriver\n",
        "chrome_options = webdriver.ChromeOptions()\n",
        "chrome_options.add_argument('--headless')\n",
        "chrome_options.add_argument('--no-sandbox')\n",
        "chrome_options.add_argument('--disable-dev-shm-usage')\n",
        "wd = webdriver.Chrome('chromedriver',options=chrome_options)\n",
        "wd.get(\"https://www.webite-url.com\")"
      ],
      "execution_count": null,
      "outputs": []
    },
    {
      "cell_type": "markdown",
      "metadata": {
        "id": "CciCYwE3-Rrx"
      },
      "source": [
        "<h2>Now Trying to Obtain the Person's name</h2>"
      ]
    },
    {
      "cell_type": "code",
      "metadata": {
        "id": "RJyxB1TT9uhP"
      },
      "source": [
        "from selenium.webdriver.common.by import By\n",
        "\n",
        "driver = webdriver.Chrome('chromedriver',options=chrome_options)\n",
        "driver.find_element(By.XPATH, '/html/body/div[1]/div/div/div/div/div/span[2]')\n",
        "driver.find_elements(By.XPATH, '//button')"
      ],
      "execution_count": null,
      "outputs": []
    }
  ]
}